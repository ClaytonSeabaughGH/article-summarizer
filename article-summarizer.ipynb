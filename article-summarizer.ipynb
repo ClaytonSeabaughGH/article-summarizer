{
 "cells": [
  {
   "cell_type": "markdown",
   "metadata": {},
   "source": [
    "# Web Mining and Applied NLP (44-620)\n",
    "\n",
    "## Final Project: Article Summarizer\n",
    "\n",
    "### Student Name: Clayton Seabaugh\n",
    "### GitHub Repo: https://github.com/ClaytonSeabaughGH/article-summarizer\n",
    "\n",
    "Perform the tasks described in the Markdown cells below.  When you have completed the assignment make sure your code cells have all been run (and have output beneath them) and ensure you have committed and pushed ALL of your changes to your assignment repository.\n",
    "\n",
    "You should bring in code from previous assignments to help you answer the questions below.\n",
    "\n",
    "Every question that requires you to write code will have a code cell underneath it; you may either write your entire solution in that cell or write it in a python file (`.py`), then import and run the appropriate code to answer the question."
   ]
  },
  {
   "cell_type": "markdown",
   "metadata": {},
   "source": [
    "### Question 1. Find on the internet an article or blog post about a topic that interests you and you are able to get the text for using the technologies we have applied in the course.  Get the html for the article and store it in a file (which you must submit with your project)"
   ]
  },
  {
   "cell_type": "code",
   "execution_count": 1,
   "metadata": {},
   "outputs": [
    {
     "name": "stdout",
     "output_type": "stream",
     "text": [
      "HTML content saved to how_big_data_changed_music.html\n"
     ]
    }
   ],
   "source": [
    "import requests\n",
    "\n",
    "# URL of the article\n",
    "url = \"https://resources.audiense.com/en/blog/how-big-data-has-changed-the-music-industry-forever\"\n",
    "\n",
    "# Fetch the HTML content of the webpage\n",
    "response = requests.get(url)\n",
    "html_content = response.text\n",
    "\n",
    "# Save the HTML content to a file\n",
    "with open(\"how_big_data_changed_music.html\", \"w\", encoding=\"utf-8\") as file:\n",
    "    file.write(html_content)\n",
    "\n",
    "print(\"HTML content saved to how_big_data_changed_music.html\")\n"
   ]
  },
  {
   "cell_type": "markdown",
   "metadata": {},
   "source": [
    "### Question 2. Read in your article's html source from the file you created in question 1 and do sentiment analysis on the article/post's text (use `.get_text()`).  Print the polarity score with an appropriate label.  Additionally print the number of sentences in the original article (with an appropriate label)"
   ]
  },
  {
   "cell_type": "code",
   "execution_count": 7,
   "metadata": {},
   "outputs": [
    {
     "name": "stdout",
     "output_type": "stream",
     "text": [
      "Number of Sentences: 72\n",
      "Polarity Score: 0.14\n"
     ]
    }
   ],
   "source": [
    "from bs4 import BeautifulSoup\n",
    "from textblob import TextBlob\n",
    "import re\n",
    "\n",
    "\n",
    "# Step 1: Read the HTML file\n",
    "with open(\"how_big_data_changed_music.html\", \"r\", encoding=\"utf-8\") as file:\n",
    "    html_content = file.read()\n",
    "\n",
    "# Step 2: Extract text from the HTML\n",
    "soup = BeautifulSoup(html_content, \"html.parser\")\n",
    "article_text = soup.get_text()\n",
    "\n",
    "# Step 3: Perform sentiment analysis\n",
    "blob = TextBlob(article_text)\n",
    "polarity = blob.polarity  # Sentiment polarity\n",
    "# Step 1: Extract text from HTML as before (assuming article_text is already defined)\n",
    "# Step 2: Count sentences using regex\n",
    "sentence_count = len(re.split(r'[.!?]', article_text)) - 1  # Subtract 1 to handle trailing splits\n",
    "\n",
    "# Step 3: Print the results\n",
    "print(f\"Number of Sentences: {sentence_count}\")\n",
    "\n",
    "# Step 4: Print results\n",
    "print(f\"Polarity Score: {polarity:.2f}\")\n",
    "\n"
   ]
  },
  {
   "cell_type": "markdown",
   "metadata": {},
   "source": [
    "### Question 3. Load the article text into a trained `spaCy` pipeline, and determine the 5 most frequent tokens (converted to lower case).  Print the common tokens with an appropriate label.  Additionally, print the tokens their frequencies (with appropriate labels)"
   ]
  },
  {
   "cell_type": "code",
   "execution_count": 9,
   "metadata": {},
   "outputs": [
    {
     "name": "stdout",
     "output_type": "stream",
     "text": [
      "Most Frequent Tokens:\n",
      "Token: '\n",
      "', Frequency: 115\n",
      "Token: '\n",
      "\n",
      "', Frequency: 46\n",
      "Token: 'audience', Frequency: 28\n",
      "Token: 'audiense', Frequency: 26\n",
      "Token: 'intelligence', Frequency: 26\n"
     ]
    }
   ],
   "source": [
    "import spacy\n",
    "from collections import Counter\n",
    "\n",
    "# Step 1: Load the spaCy pipeline\n",
    "nlp = spacy.load(\"en_core_web_sm\")  # Ensure spaCy and the model are installed\n",
    "\n",
    "# Step 2: Process the article text\n",
    "doc = nlp(article_text)\n",
    "\n",
    "# Step 3: Tokenize and count token frequencies (lowercase, no punctuation or stop words)\n",
    "tokens = [token.text.lower() for token in doc if not token.is_punct and not token.is_stop]\n",
    "token_freq = Counter(tokens)\n",
    "\n",
    "# Step 4: Get the 5 most common tokens\n",
    "most_common_tokens = token_freq.most_common(5)\n",
    "\n",
    "# Step 5: Print results\n",
    "print(\"Most Frequent Tokens:\")\n",
    "for token, freq in most_common_tokens:\n",
    "    print(f\"Token: '{token}', Frequency: {freq}\")\n"
   ]
  },
  {
   "cell_type": "markdown",
   "metadata": {},
   "source": [
    "### Question 4. Load the article text into a trained `spaCy` pipeline, and determine the 5 most frequent lemmas (converted to lower case).  Print the common lemmas with an appropriate label.  Additionally, print the lemmas with their frequencies (with appropriate labels)."
   ]
  },
  {
   "cell_type": "code",
   "execution_count": 10,
   "metadata": {},
   "outputs": [
    {
     "name": "stdout",
     "output_type": "stream",
     "text": [
      "Most Frequent Lemmas:\n",
      "Lemma: '\n",
      "', Frequency: 115\n",
      "Lemma: '\n",
      "\n",
      "', Frequency: 46\n",
      "Lemma: 'audience', Frequency: 32\n",
      "Lemma: 'artist', Frequency: 30\n",
      "Lemma: 'audiense', Frequency: 26\n"
     ]
    }
   ],
   "source": [
    "import spacy\n",
    "from collections import Counter\n",
    "\n",
    "# Step 1: Load the spaCy pipeline\n",
    "nlp = spacy.load(\"en_core_web_sm\")  # Ensure spaCy and the model are installed\n",
    "\n",
    "# Step 2: Process the article text\n",
    "doc = nlp(article_text)\n",
    "\n",
    "# Step 3: Extract lemmas and count frequencies (convert to lower case, excluding punctuation and stop words)\n",
    "lemmas = [token.lemma_.lower() for token in doc if not token.is_punct and not token.is_stop]\n",
    "lemma_freq = Counter(lemmas)\n",
    "\n",
    "# Step 4: Get the 5 most common lemmas\n",
    "most_common_lemmas = lemma_freq.most_common(5)\n",
    "\n",
    "# Step 5: Print results\n",
    "print(\"Most Frequent Lemmas:\")\n",
    "for lemma, freq in most_common_lemmas:\n",
    "    print(f\"Lemma: '{lemma}', Frequency: {freq}\")\n"
   ]
  },
  {
   "cell_type": "markdown",
   "metadata": {},
   "source": [
    "### Question 5. Make a list containing the scores (using tokens) of every sentence in the article, and plot a histogram with appropriate titles and axis labels of the scores. From your histogram, what seems to be the most common range of scores (put the answer in a comment after your code)?"
   ]
  },
  {
   "cell_type": "code",
   "execution_count": null,
   "metadata": {},
   "outputs": [
    {
     "data": {
      "image/png": "[encoded data removed]",
      "text/plain": [
       "<Figure size 1000x600 with 1 Axes>"
      ]
     },
     "metadata": {},
     "output_type": "display_data"
    }
   ],
   "source": [
    "import spacy\n",
    "import matplotlib.pyplot as plt\n",
    "from textblob import TextBlob\n",
    "\n",
    "# Step 1: Load the spaCy pipeline\n",
    "nlp = spacy.load(\"en_core_web_sm\")  # Ensure spaCy and the model are installed\n",
    "\n",
    "# Step 2: Process the article text with spaCy\n",
    "doc = nlp(article_text)\n",
    "\n",
    "# Step 3: Calculate sentiment scores for each sentence using TextBlob\n",
    "sentence_scores = []\n",
    "\n",
    "for sent in doc.sents:\n",
    "    # Get sentence text\n",
    "    sentence_text = sent.text.strip()\n",
    "    \n",
    "    # Perform sentiment analysis using TextBlob\n",
    "    blob = TextBlob(sentence_text)\n",
    "    sentence_scores.append(blob.sentiment.polarity)\n",
    "\n",
    "# Step 4: Plot histogram of sentiment scores\n",
    "plt.figure(figsize=(10, 6))\n",
    "plt.hist(sentence_scores, bins=20, color='skyblue', edgecolor='black')\n",
    "plt.title('Sentiment Scores of Sentences in the Article')\n",
    "plt.xlabel('Sentiment Score')\n",
    "plt.ylabel('Frequency')\n",
    "plt.grid(True)\n",
    "plt.show()\n",
    "\n",
    "# The most common range of scores is from 0 to .3\n"
   ]
  },
  {
   "cell_type": "markdown",
   "metadata": {},
   "source": [
    "### Question 6. Make a list containing the scores (using lemmas) of every sentence in the article, and plot a histogram with appropriate titles and axis labels of the scores.  From your histogram, what seems to be the most common range of scores (put the answer in a comment after your code)?"
   ]
  },
  {
   "cell_type": "code",
   "execution_count": null,
   "metadata": {},
   "outputs": [
    {
     "data": {
      "image/png": "[encoded data removed]",
      "text/plain": [
       "<Figure size 1000x600 with 1 Axes>"
      ]
     },
     "metadata": {},
     "output_type": "display_data"
    }
   ],
   "source": [
    "import spacy\n",
    "import matplotlib.pyplot as plt\n",
    "from textblob import TextBlob\n",
    "\n",
    "# Step 1: Load the spaCy pipeline\n",
    "nlp = spacy.load(\"en_core_web_sm\")  # Ensure spaCy and the model are installed\n",
    "\n",
    "# Step 2: Process the article text with spaCy\n",
    "doc = nlp(article_text)\n",
    "\n",
    "# Step 3: Calculate sentiment scores for each sentence using lemmas\n",
    "sentence_scores_lemmas = []\n",
    "\n",
    "for sent in doc.sents:\n",
    "    # Extract lemmas (convert to lowercase, exclude punctuation and stop words)\n",
    "    sentence_lemmas = [token.lemma_.lower() for token in sent if not token.is_punct and not token.is_stop]\n",
    "    \n",
    "    # Create a TextBlob object for the sentence's lemmas (concatenate lemmas into a string)\n",
    "    sentence_text = \" \".join(sentence_lemmas)\n",
    "    blob = TextBlob(sentence_text)\n",
    "    \n",
    "    # Store the sentiment polarity\n",
    "    sentence_scores_lemmas.append(blob.sentiment.polarity)\n",
    "\n",
    "# Step 4: Plot histogram of sentiment scores\n",
    "plt.figure(figsize=(10, 6))\n",
    "plt.hist(sentence_scores_lemmas, bins=20, color='salmon', edgecolor='black')\n",
    "plt.title('Sentiment Scores of Sentences Based on Lemmas')\n",
    "plt.xlabel('Sentiment Score')\n",
    "plt.ylabel('Frequency')\n",
    "plt.grid(True)\n",
    "plt.show()\n",
    "\n",
    "# The most common range of scores is from 0 to .3\n"
   ]
  },
  {
   "cell_type": "markdown",
   "metadata": {},
   "source": [
    "7. Using the histograms from questions 5 and 6, decide a \"cutoff\" score for tokens and lemmas such that fewer than half the sentences would have a score greater than the cutoff score.  Record the scores in this Markdown cell\n",
    "\n",
    "* Cutoff Score (tokens): \n",
    "* Cutoff Score (lemmas):\n",
    "\n",
    "Feel free to change these scores as you generate your summaries.  Ideally, we're shooting for at least 6 sentences for our summary, but don't want more than 10 (these numbers are rough estimates; they depend on the length of your article)."
   ]
  },
  {
   "cell_type": "markdown",
   "metadata": {},
   "source": []
  },
  {
   "cell_type": "markdown",
   "metadata": {},
   "source": [
    "8. Create a summary of the article by going through every sentence in the article and adding it to an (initially) empty list if its score (based on tokens) is greater than the cutoff score you identified in question 8.  If your loop variable is named `sent`, you may find it easier to add `sent.text.strip()` to your list of sentences.  Print the summary (I would cleanly generate the summary text by `join`ing the strings in your list together with a space (`' '.join(sentence_list)`)."
   ]
  },
  {
   "cell_type": "code",
   "execution_count": null,
   "metadata": {},
   "outputs": [],
   "source": []
  },
  {
   "cell_type": "markdown",
   "metadata": {},
   "source": [
    "9. Print the polarity score of your summary you generated with the token scores (with an appropriate label). Additionally, print the number of sentences in the summarized article."
   ]
  },
  {
   "cell_type": "code",
   "execution_count": null,
   "metadata": {},
   "outputs": [],
   "source": []
  },
  {
   "cell_type": "markdown",
   "metadata": {},
   "source": [
    "10. Create a summary of the article by going through every sentence in the article and adding it to an (initially) empty list if its score (based on lemmas) is greater than the cutoff score you identified in question 8.  If your loop variable is named `sent`, you may find it easier to add `sent.text.strip()` to your list of sentences.  Print the summary (I would cleanly generate the summary text by `join`ing the strings in your list together with a space (`' '.join(sentence_list)`)."
   ]
  },
  {
   "cell_type": "code",
   "execution_count": null,
   "metadata": {},
   "outputs": [],
   "source": []
  },
  {
   "cell_type": "markdown",
   "metadata": {},
   "source": [
    "11. Print the polarity score of your summary you generated with the lemma scores (with an appropriate label). Additionally, print the number of sentences in the summarized article."
   ]
  },
  {
   "cell_type": "code",
   "execution_count": null,
   "metadata": {},
   "outputs": [],
   "source": []
  },
  {
   "cell_type": "markdown",
   "metadata": {},
   "source": [
    "12.  Compare your polarity scores of your summaries to the polarity scores of the initial article.  Is there a difference?  Why do you think that may or may not be?.  Answer in this Markdown cell.  "
   ]
  },
  {
   "cell_type": "markdown",
   "metadata": {},
   "source": [
    "13. Based on your reading of the original article, which summary do you think is better (if there's a difference).  Why do you think this might be?"
   ]
  }
 ],
 "metadata": {
  "kernelspec": {
   "display_name": ".venv",
   "language": "python",
   "name": "python3"
  },
  "language_info": {
   "codemirror_mode": {
    "name": "ipython",
    "version": 3
   },
   "file_extension": ".py",
   "mimetype": "text/x-python",
   "name": "python",
   "nbconvert_exporter": "python",
   "pygments_lexer": "ipython3",
   "version": "3.12.5"
  }
 },
 "nbformat": 4,
 "nbformat_minor": 4
}
