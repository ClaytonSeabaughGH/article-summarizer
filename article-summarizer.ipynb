{
 "cells": [
  {
   "cell_type": "markdown",
   "metadata": {},
   "source": [
    "# Web Mining and Applied NLP (44-620)\n",
    "\n",
    "## Final Project: Article Summarizer\n",
    "\n",
    "### Student Name: Clayton Seabaugh\n",
    "### GitHub Repo: https://github.com/ClaytonSeabaughGH/article-summarizer\n",
    "\n",
    "Perform the tasks described in the Markdown cells below.  When you have completed the assignment make sure your code cells have all been run (and have output beneath them) and ensure you have committed and pushed ALL of your changes to your assignment repository.\n",
    "\n",
    "You should bring in code from previous assignments to help you answer the questions below.\n",
    "\n",
    "Every question that requires you to write code will have a code cell underneath it; you may either write your entire solution in that cell or write it in a python file (`.py`), then import and run the appropriate code to answer the question."
   ]
  },
  {
   "cell_type": "markdown",
   "metadata": {},
   "source": [
    "### Question 1. Find on the internet an article or blog post about a topic that interests you and you are able to get the text for using the technologies we have applied in the course.  Get the html for the article and store it in a file (which you must submit with your project)"
   ]
  },
  {
   "cell_type": "code",
   "execution_count": 1,
   "metadata": {},
   "outputs": [
    {
     "name": "stdout",
     "output_type": "stream",
     "text": [
      "HTML content saved to how_big_data_changed_music.html\n"
     ]
    }
   ],
   "source": [
    "import requests\n",
    "\n",
    "# URL of the article\n",
    "url = \"https://resources.audiense.com/en/blog/how-big-data-has-changed-the-music-industry-forever\"\n",
    "\n",
    "# Fetch the HTML content of the webpage\n",
    "response = requests.get(url)\n",
    "html_content = response.text\n",
    "\n",
    "# Save the HTML content to a file\n",
    "with open(\"how_big_data_changed_music.html\", \"w\", encoding=\"utf-8\") as file:\n",
    "    file.write(html_content)\n",
    "\n",
    "print(\"HTML content saved to how_big_data_changed_music.html\")\n"
   ]
  },
  {
   "cell_type": "markdown",
   "metadata": {},
   "source": [
    "### Question 2. Read in your article's html source from the file you created in question 1 and do sentiment analysis on the article/post's text (use `.get_text()`).  Print the polarity score with an appropriate label.  Additionally print the number of sentences in the original article (with an appropriate label)"
   ]
  },
  {
   "cell_type": "code",
   "execution_count": 7,
   "metadata": {},
   "outputs": [
    {
     "name": "stdout",
     "output_type": "stream",
     "text": [
      "Number of Sentences: 72\n",
      "Polarity Score: 0.14\n"
     ]
    }
   ],
   "source": [
    "from bs4 import BeautifulSoup\n",
    "from textblob import TextBlob\n",
    "import re\n",
    "\n",
    "\n",
    "# Step 1: Read the HTML file\n",
    "with open(\"how_big_data_changed_music.html\", \"r\", encoding=\"utf-8\") as file:\n",
    "    html_content = file.read()\n",
    "\n",
    "# Step 2: Extract text from the HTML\n",
    "soup = BeautifulSoup(html_content, \"html.parser\")\n",
    "article_text = soup.get_text()\n",
    "\n",
    "# Step 3: Perform sentiment analysis\n",
    "blob = TextBlob(article_text)\n",
    "polarity = blob.polarity  # Sentiment polarity\n",
    "# Step 1: Extract text from HTML as before (assuming article_text is already defined)\n",
    "# Step 2: Count sentences using regex\n",
    "sentence_count = len(re.split(r'[.!?]', article_text)) - 1  # Subtract 1 to handle trailing splits\n",
    "\n",
    "# Step 3: Print the results\n",
    "print(f\"Number of Sentences: {sentence_count}\")\n",
    "\n",
    "# Step 4: Print results\n",
    "print(f\"Polarity Score: {polarity:.2f}\")\n",
    "\n"
   ]
  },
  {
   "cell_type": "markdown",
   "metadata": {},
   "source": [
    "### Question 3. Load the article text into a trained `spaCy` pipeline, and determine the 5 most frequent tokens (converted to lower case).  Print the common tokens with an appropriate label.  Additionally, print the tokens their frequencies (with appropriate labels)"
   ]
  },
  {
   "cell_type": "code",
   "execution_count": 9,
   "metadata": {},
   "outputs": [
    {
     "name": "stdout",
     "output_type": "stream",
     "text": [
      "Most Frequent Tokens:\n",
      "Token: '\n",
      "', Frequency: 115\n",
      "Token: '\n",
      "\n",
      "', Frequency: 46\n",
      "Token: 'audience', Frequency: 28\n",
      "Token: 'audiense', Frequency: 26\n",
      "Token: 'intelligence', Frequency: 26\n"
     ]
    }
   ],
   "source": [
    "import spacy\n",
    "from collections import Counter\n",
    "\n",
    "# Step 1: Load the spaCy pipeline\n",
    "nlp = spacy.load(\"en_core_web_sm\")  # Ensure spaCy and the model are installed\n",
    "\n",
    "# Step 2: Process the article text\n",
    "doc = nlp(article_text)\n",
    "\n",
    "# Step 3: Tokenize and count token frequencies (lowercase, no punctuation or stop words)\n",
    "tokens = [token.text.lower() for token in doc if not token.is_punct and not token.is_stop]\n",
    "token_freq = Counter(tokens)\n",
    "\n",
    "# Step 4: Get the 5 most common tokens\n",
    "most_common_tokens = token_freq.most_common(5)\n",
    "\n",
    "# Step 5: Print results\n",
    "print(\"Most Frequent Tokens:\")\n",
    "for token, freq in most_common_tokens:\n",
    "    print(f\"Token: '{token}', Frequency: {freq}\")\n"
   ]
  },
  {
   "cell_type": "markdown",
   "metadata": {},
   "source": [
    "### Question 4. Load the article text into a trained `spaCy` pipeline, and determine the 5 most frequent lemmas (converted to lower case).  Print the common lemmas with an appropriate label.  Additionally, print the lemmas with their frequencies (with appropriate labels)."
   ]
  },
  {
   "cell_type": "code",
   "execution_count": 10,
   "metadata": {},
   "outputs": [
    {
     "name": "stdout",
     "output_type": "stream",
     "text": [
      "Most Frequent Lemmas:\n",
      "Lemma: '\n",
      "', Frequency: 115\n",
      "Lemma: '\n",
      "\n",
      "', Frequency: 46\n",
      "Lemma: 'audience', Frequency: 32\n",
      "Lemma: 'artist', Frequency: 30\n",
      "Lemma: 'audiense', Frequency: 26\n"
     ]
    }
   ],
   "source": [
    "import spacy\n",
    "from collections import Counter\n",
    "\n",
    "# Step 1: Load the spaCy pipeline\n",
    "nlp = spacy.load(\"en_core_web_sm\")  # Ensure spaCy and the model are installed\n",
    "\n",
    "# Step 2: Process the article text\n",
    "doc = nlp(article_text)\n",
    "\n",
    "# Step 3: Extract lemmas and count frequencies (convert to lower case, excluding punctuation and stop words)\n",
    "lemmas = [token.lemma_.lower() for token in doc if not token.is_punct and not token.is_stop]\n",
    "lemma_freq = Counter(lemmas)\n",
    "\n",
    "# Step 4: Get the 5 most common lemmas\n",
    "most_common_lemmas = lemma_freq.most_common(5)\n",
    "\n",
    "# Step 5: Print results\n",
    "print(\"Most Frequent Lemmas:\")\n",
    "for lemma, freq in most_common_lemmas:\n",
    "    print(f\"Lemma: '{lemma}', Frequency: {freq}\")\n"
   ]
  },
  {
   "cell_type": "markdown",
   "metadata": {},
   "source": [
    "### Question 5. Make a list containing the scores (using tokens) of every sentence in the article, and plot a histogram with appropriate titles and axis labels of the scores. From your histogram, what seems to be the most common range of scores (put the answer in a comment after your code)?"
   ]
  },
  {
   "cell_type": "code",
   "execution_count": null,
   "metadata": {},
   "outputs": [
    {
     "data": {
      "image/png": "[encoded data removed]",
      "text/plain": [
       "<Figure size 1000x600 with 1 Axes>"
      ]
     },
     "metadata": {},
     "output_type": "display_data"
    }
   ],
   "source": [
    "import spacy\n",
    "import matplotlib.pyplot as plt\n",
    "from textblob import TextBlob\n",
    "\n",
    "# Step 1: Load the spaCy pipeline\n",
    "nlp = spacy.load(\"en_core_web_sm\")  # Ensure spaCy and the model are installed\n",
    "\n",
    "# Step 2: Process the article text with spaCy\n",
    "doc = nlp(article_text)\n",
    "\n",
    "# Step 3: Calculate sentiment scores for each sentence using TextBlob\n",
    "sentence_scores = []\n",
    "\n",
    "for sent in doc.sents:\n",
    "    # Get sentence text\n",
    "    sentence_text = sent.text.strip()\n",
    "    \n",
    "    # Perform sentiment analysis using TextBlob\n",
    "    blob = TextBlob(sentence_text)\n",
    "    sentence_scores.append(blob.sentiment.polarity)\n",
    "\n",
    "# Step 4: Plot histogram of sentiment scores\n",
    "plt.figure(figsize=(10, 6))\n",
    "plt.hist(sentence_scores, bins=20, color='skyblue', edgecolor='black')\n",
    "plt.title('Sentiment Scores of Sentences in the Article')\n",
    "plt.xlabel('Sentiment Score')\n",
    "plt.ylabel('Frequency')\n",
    "plt.grid(True)\n",
    "plt.show()\n",
    "\n",
    "# The most common range of scores is from 0 to .3\n"
   ]
  },
  {
   "cell_type": "markdown",
   "metadata": {},
   "source": [
    "### Question 6. Make a list containing the scores (using lemmas) of every sentence in the article, and plot a histogram with appropriate titles and axis labels of the scores.  From your histogram, what seems to be the most common range of scores (put the answer in a comment after your code)?"
   ]
  },
  {
   "cell_type": "code",
   "execution_count": null,
   "metadata": {},
   "outputs": [
    {
     "data": {
      "image/png": "[encoded data removed]",
      "text/plain": [
       "<Figure size 1000x600 with 1 Axes>"
      ]
     },
     "metadata": {},
     "output_type": "display_data"
    }
   ],
   "source": [
    "import spacy\n",
    "import matplotlib.pyplot as plt\n",
    "from textblob import TextBlob\n",
    "\n",
    "# Step 1: Load the spaCy pipeline\n",
    "nlp = spacy.load(\"en_core_web_sm\")  # Ensure spaCy and the model are installed\n",
    "\n",
    "# Step 2: Process the article text with spaCy\n",
    "doc = nlp(article_text)\n",
    "\n",
    "# Step 3: Calculate sentiment scores for each sentence using lemmas\n",
    "sentence_scores_lemmas = []\n",
    "\n",
    "for sent in doc.sents:\n",
    "    # Extract lemmas (convert to lowercase, exclude punctuation and stop words)\n",
    "    sentence_lemmas = [token.lemma_.lower() for token in sent if not token.is_punct and not token.is_stop]\n",
    "    \n",
    "    # Create a TextBlob object for the sentence's lemmas (concatenate lemmas into a string)\n",
    "    sentence_text = \" \".join(sentence_lemmas)\n",
    "    blob = TextBlob(sentence_text)\n",
    "    \n",
    "    # Store the sentiment polarity\n",
    "    sentence_scores_lemmas.append(blob.sentiment.polarity)\n",
    "\n",
    "# Step 4: Plot histogram of sentiment scores\n",
    "plt.figure(figsize=(10, 6))\n",
    "plt.hist(sentence_scores_lemmas, bins=20, color='salmon', edgecolor='black')\n",
    "plt.title('Sentiment Scores of Sentences Based on Lemmas')\n",
    "plt.xlabel('Sentiment Score')\n",
    "plt.ylabel('Frequency')\n",
    "plt.grid(True)\n",
    "plt.show()\n",
    "\n",
    "# The most common range of scores is from 0 to .3\n"
   ]
  },
  {
   "cell_type": "markdown",
   "metadata": {},
   "source": [
    "### Question 7. Using the histograms from questions 5 and 6, decide a \"cutoff\" score for tokens and lemmas such that fewer than half the sentences would have a score greater than the cutoff score.  Record the scores in this Markdown cell\n",
    "\n",
    "* Cutoff Score (tokens): .2\n",
    "* Cutoff Score (lemmas): .2\n",
    "\n",
    "Feel free to change these scores as you generate your summaries.  Ideally, we're shooting for at least 6 sentences for our summary, but don't want more than 10 (these numbers are rough estimates; they depend on the length of your article)."
   ]
  },
  {
   "cell_type": "code",
   "execution_count": 14,
   "metadata": {},
   "outputs": [
    {
     "name": "stdout",
     "output_type": "stream",
     "text": [
      "Cutoff Score (tokens): 0.01\n",
      "Cutoff Score (lemmas): 0.00\n"
     ]
    }
   ],
   "source": [
    "import numpy as np\n",
    "\n",
    "# Step 1: Calculate the median of sentiment scores for tokens and lemmas\n",
    "cutoff_score_tokens = np.median(sentence_scores)\n",
    "cutoff_score_lemmas = np.median(sentence_scores_lemmas)\n",
    "\n",
    "# Step 2: Print the cutoff scores\n",
    "print(f\"Cutoff Score (tokens): {cutoff_score_tokens:.2f}\")\n",
    "print(f\"Cutoff Score (lemmas): {cutoff_score_lemmas:.2f}\")\n"
   ]
  },
  {
   "cell_type": "markdown",
   "metadata": {},
   "source": [
    "### Question 8. Create a summary of the article by going through every sentence in the article and adding it to an (initially) empty list if its score (based on tokens) is greater than the cutoff score you identified in question 8.  If your loop variable is named `sent`, you may find it easier to add `sent.text.strip()` to your list of sentences.  Print the summary (I would cleanly generate the summary text by `join`ing the strings in your list together with a space (`' '.join(sentence_list)`)."
   ]
  },
  {
   "cell_type": "code",
   "execution_count": 8,
   "metadata": {},
   "outputs": [
    {
     "data": {
      "image/png": "[encoded data removed]",
      "text/plain": [
       "<Figure size 640x480 with 1 Axes>"
      ]
     },
     "metadata": {},
     "output_type": "display_data"
    },
    {
     "name": "stdout",
     "output_type": "stream",
     "text": [
      "\n",
      "Summary of the Article:\n",
      "Go to Soprism >\n",
      "\n",
      "\n",
      "Social Intelligence\n",
      "Uncover social consumer segments that are derived from consumer behaviour “in the wild” to reflect real affinities. Go to Audiense Demand >\n",
      "\n",
      "\n",
      "\n",
      "X Marketing\n",
      "\n",
      "Community Management\n",
      "Access the most complete X community management tool with deep follower analytics. Go to Audiense Connect >\n",
      "\n",
      "\n",
      "X Advanced Analytics & Tracking\n",
      "Gain access to the X analytics tool used by top agencies and marketers around the world, tracking thousands of hashtags daily. To stay ahead, music labels need to be able to navigate the ever-changing preferences of listeners and harness those insights to generate new revenue streams. This data is what gives the music industry a head start when it comes to understanding what you are listening to, where you are from, when you listen, how, and how frequently you listen to a song or genre. Then there is social media, which has also had a major impact on the type of data music labels can analyze because now you can understand not just listening preferences, but you can analyze an artist's audience (or following) as a whole, and discover their non-related music interests. With all this data and insight available, we wanted to filter down the top things that big data can help music labels discover: According to analysts, this is what makes it easy to predict who will blow up next. Chartmetric, for example, can predict which of the 1.7 million musicians it follows will experience a significant career breakthrough in the upcoming week. Next Big Sound (owned by Pandora), claims that their unique algorithm can foretell which artist will most likely debut on the Billboard 200 list in the next 12 months. Once it’s been predicted which artist or song will take off, music labels can then use a tool like Affinio to view and analyze the fans of that artist, including where the majority of them reside, which other artists they love, and what their other interests are, besides music, like their top media outlets, brands, content etc. \n",
      "2. Where an artist should tour\n",
      "For many musicians, having a long-term career requires touring. Big data can help in making better decisions when it comes to planning out a successful tour. They can even pinpoint where the majority of the positive discussion is happening - in turn, surfacing where the majority of a band's fanbase resides and where the band should tour. The band Cigarettes After Sex discovered, through Spotify, that their primary fanbase was from far-off locations like Seoul, South Korea. They used this information to make the decision to tour there, and in turn, were able to amass a global following of more than 4 million Spotify subscribers per month. Paid partnerships\n",
      "The best way to discover a profitable artist and brand partnership is by using an audience intelligence tool - one that can show you the overlap between the audience of that artist and the audience of the brand. Affinio can run a report on an artist’s audience like Halsey and makes it easy to view that audience's top brand interests. When using a starting point like Rihanna’s USA audience, we can see who else shows up in the list of top artists for her following. By looking at the interest data below, Rihanna’s fans would enjoy a collab with bigger artists like Wiz Khalifa, and J.Cole, or more niche and upcoming artists like Remy Ma. \n",
      "\n",
      "\n",
      "\n",
      "5. The changes in a mature artist's audience and what their newest fanbase looks like\n",
      "With Rihanna performing at the Super Bowl this year - we used Affinio to see who her audience is present day, as well as look at which new followers she has gained since the Super Bowl announcement. With a mature artist, it’s important to have a finger on the pulse when it comes to how their audience has changed over time. Especially in the case of an artist like Rihanna, who hasn’t put out a new album since 2016 -  it’s good to know how her listener's preferences have changed. In the example below, Affinio has surfaced all of Rihanna’s newest followers since it was announced she would perform at the Super Bowl, on September 26th: \n",
      "\n",
      "Insights within this report can be used to target these audiences with her newest music when it comes out or can be used to influence the album itself, in terms of this new audience’s other top music preferences and interests. With all this new information, distributors like Spotify and Apple Music can give artists demographic and geographic insights on their primary audience. How many times have you saved or skipped my song? The best places to market songs, or the best times to release songs\n",
      "\n",
      "There is no doubt that big data has changed the music industry forever. This is also true when it comes to more mature artists, and defining their audiences present day, making sure that artist stays relevant with newer fans. Related articles\n",
      "\n",
      "\n",
      "\n",
      "\n",
      "\n",
      "\n",
      "\n",
      "Audience intelligence\n",
      "Digital strategy\n",
      "\n",
      "Tuning into instinct: The power of creativity over data in music's golden eras\n",
      "\n",
      "September 20, 2023\n",
      "\n",
      "                Music is on the brink of a seismic shift. Read More\n",
      "\n",
      "\n",
      "\n",
      "\n",
      "\n",
      "\n",
      "\n",
      "\n",
      "\n",
      "\n",
      "\n",
      "\n",
      "Audience intelligence\n",
      "Affinio\n",
      "\n",
      "How TikTok is reigniting artists’ careers and expanding their audiences\n",
      "\n",
      "February 10, 2023 The longevity of TikTok's meteoric rise remains to be seen, but in the meantime, the social media...\n",
      "                \n",
      "\n",
      "\n",
      "\n",
      "Read More\n",
      "\n",
      "\n",
      "\n",
      "\n",
      "\n",
      "\n",
      "\n",
      "\n",
      "\n",
      "\n",
      "\n",
      "\n",
      "Spotlight analysis\n",
      "\n",
      "Best-in-show pet care brands that get consumer tails wagging\n",
      "\n",
      "April 13, 2023\n",
      "\n",
      "                Are you a cat person or a dog person?\n"
     ]
    }
   ],
   "source": [
    "from bs4 import BeautifulSoup\n",
    "from textblob import TextBlob\n",
    "import spacy\n",
    "import matplotlib.pyplot as plt\n",
    "\n",
    "# Step 1: Extract the article text\n",
    "with open(\"how_big_data_changed_music.html\", \"r\", encoding=\"utf-8\") as file:\n",
    "    html_content = file.read()\n",
    "\n",
    "soup = BeautifulSoup(html_content, \"html.parser\")\n",
    "article_text = soup.get_text().strip()  # Clean the extracted text\n",
    "\n",
    "# Step 2: Load the spaCy pipeline\n",
    "nlp = spacy.load(\"en_core_web_sm\")  # Ensure spaCy model is installed\n",
    "\n",
    "# Step 3: Process the article with spaCy\n",
    "doc = nlp(article_text)\n",
    "\n",
    "# Step 4: Calculate sentiment scores for each sentence\n",
    "sentence_scores = []\n",
    "for sent in doc.sents:\n",
    "    blob = TextBlob(sent.text)\n",
    "    sentence_scores.append(blob.sentiment.polarity)\n",
    "\n",
    "# Step 5: Plot a histogram of sentiment scores (optional debugging)\n",
    "plt.hist(sentence_scores, bins=10, color='skyblue', edgecolor='black')\n",
    "plt.title(\"Histogram of Sentence Sentiment Scores\")\n",
    "plt.xlabel(\"Sentiment Polarity\")\n",
    "plt.ylabel(\"Frequency\")\n",
    "plt.show()\n",
    "\n",
    "# Step 6: Define a cutoff score for tokens (based on Question 7)\n",
    "cutoff_score_tokens = 0.05  # Adjust based on your histogram analysis\n",
    "\n",
    "# Step 7: Summarize the article based on the cutoff score\n",
    "summary_sentences = []\n",
    "for sent, score in zip(doc.sents, sentence_scores):\n",
    "    if score > cutoff_score_tokens:\n",
    "        summary_sentences.append(sent.text.strip())  # Add sentence to summary list\n",
    "\n",
    "# Step 8: Generate the summary\n",
    "summary_text = ' '.join(summary_sentences)\n",
    "\n",
    "# Step 9: Print the summary\n",
    "print(\"\\nSummary of the Article:\")\n",
    "print(summary_text)\n"
   ]
  },
  {
   "cell_type": "markdown",
   "metadata": {},
   "source": [
    "### Question 9. Print the polarity score of your summary you generated with the token scores (with an appropriate label). Additionally, print the number of sentences in the summarized article."
   ]
  },
  {
   "cell_type": "code",
   "execution_count": 10,
   "metadata": {},
   "outputs": [
    {
     "name": "stdout",
     "output_type": "stream",
     "text": [
      "Polarity Score of the Summary: 0.26\n",
      "Number of Sentences in the Summary (using spaCy): 31\n"
     ]
    }
   ],
   "source": [
    "# Step 1: Use spaCy to count sentences in the summary\n",
    "summary_doc = nlp(summary_text)  # Process the summary text with spaCy\n",
    "spaCy_sentence_count = len(list(summary_doc.sents))  # Count sentences in the summary\n",
    "\n",
    "# Step 2: Print the polarity score and sentence count\n",
    "print(f\"Polarity Score of the Summary: {summary_polarity:.2f}\")\n",
    "print(f\"Number of Sentences in the Summary (using spaCy): {spaCy_sentence_count}\")\n"
   ]
  },
  {
   "cell_type": "markdown",
   "metadata": {},
   "source": [
    "### Question 10. Create a summary of the article by going through every sentence in the article and adding it to an (initially) empty list if its score (based on lemmas) is greater than the cutoff score you identified in question 8.  If your loop variable is named `sent`, you may find it easier to add `sent.text.strip()` to your list of sentences.  Print the summary (I would cleanly generate the summary text by `join`ing the strings in your list together with a space (`' '.join(sentence_list)`)."
   ]
  },
  {
   "cell_type": "code",
   "execution_count": 12,
   "metadata": {},
   "outputs": [
    {
     "name": "stdout",
     "output_type": "stream",
     "text": [
      "\n",
      "Summary of the Article (based on lemmas):\n",
      "Go to Audiense Demand >\n",
      "\n",
      "\n",
      "\n",
      "X Marketing\n",
      "\n",
      "Community Management\n",
      "Access the most complete X community management tool with deep follower analytics. Go to Audiense Connect >\n",
      "\n",
      "\n",
      "X Advanced Analytics & Tracking\n",
      "Gain access to the X analytics tool used by top agencies and marketers around the world, tracking thousands of hashtags daily. To stay ahead, music labels need to be able to navigate the ever-changing preferences of listeners and harness those insights to generate new revenue streams. With all this data and insight available, we wanted to filter down the top things that big data can help music labels discover: According to analysts, this is what makes it easy to predict who will blow up next. Chartmetric, for example, can predict which of the 1.7 million musicians it follows will experience a significant career breakthrough in the upcoming week. Next Big Sound (owned by Pandora), claims that their unique algorithm can foretell which artist will most likely debut on the Billboard 200 list in the next 12 months. Once it’s been predicted which artist or song will take off, music labels can then use a tool like Affinio to view and analyze the fans of that artist, including where the majority of them reside, which other artists they love, and what their other interests are, besides music, like their top media outlets, brands, content etc. \n",
      "2. Where an artist should tour\n",
      "For many musicians, having a long-term career requires touring. Big data can help in making better decisions when it comes to planning out a successful tour. They can even pinpoint where the majority of the positive discussion is happening - in turn, surfacing where the majority of a band's fanbase resides and where the band should tour. The band Cigarettes After Sex discovered, through Spotify, that their primary fanbase was from far-off locations like Seoul, South Korea. They used this information to make the decision to tour there, and in turn, were able to amass a global following of more than 4 million Spotify subscribers per month. Paid partnerships\n",
      "The best way to discover a profitable artist and brand partnership is by using an audience intelligence tool - one that can show you the overlap between the audience of that artist and the audience of the brand. Affinio can run a report on an artist’s audience like Halsey and makes it easy to view that audience's top brand interests. When using a starting point like Rihanna’s USA audience, we can see who else shows up in the list of top artists for her following. By looking at the interest data below, Rihanna’s fans would enjoy a collab with bigger artists like Wiz Khalifa, and J.Cole, or more niche and upcoming artists like Remy Ma. \n",
      "\n",
      "\n",
      "\n",
      "5. The changes in a mature artist's audience and what their newest fanbase looks like\n",
      "With Rihanna performing at the Super Bowl this year - we used Affinio to see who her audience is present day, as well as look at which new followers she has gained since the Super Bowl announcement. With a mature artist, it’s important to have a finger on the pulse when it comes to how their audience has changed over time. Especially in the case of an artist like Rihanna, who hasn’t put out a new album since 2016 -  it’s good to know how her listener's preferences have changed. In the example below, Affinio has surfaced all of Rihanna’s newest followers since it was announced she would perform at the Super Bowl, on September 26th: \n",
      "\n",
      "Insights within this report can be used to target these audiences with her newest music when it comes out or can be used to influence the album itself, in terms of this new audience’s other top music preferences and interests. With all this new information, distributors like Spotify and Apple Music can give artists demographic and geographic insights on their primary audience. How many times have you saved or skipped my song? The best places to market songs, or the best times to release songs\n",
      "\n",
      "There is no doubt that big data has changed the music industry forever. This is also true when it comes to more mature artists, and defining their audiences present day, making sure that artist stays relevant with newer fans. Read More\n",
      "\n",
      "\n",
      "\n",
      "\n",
      "\n",
      "\n",
      "\n",
      "\n",
      "\n",
      "\n",
      "\n",
      "\n",
      "Audience intelligence\n",
      "Affinio\n",
      "\n",
      "How TikTok is reigniting artists’ careers and expanding their audiences\n",
      "\n",
      "February 10, 2023 The longevity of TikTok's meteoric rise remains to be seen, but in the meantime, the social media...\n",
      "                \n",
      "\n",
      "\n",
      "\n",
      "Read More\n",
      "\n",
      "\n",
      "\n",
      "\n",
      "\n",
      "\n",
      "\n",
      "\n",
      "\n",
      "\n",
      "\n",
      "\n",
      "Spotlight analysis\n",
      "\n",
      "Best-in-show pet care brands that get consumer tails wagging\n",
      "\n",
      "April 13, 2023\n",
      "\n",
      "                Are you a cat person or a dog person?\n"
     ]
    }
   ],
   "source": [
    "# Step 1: Define the cutoff score for lemmas (based on Question 7)\n",
    "cutoff_score_lemmas = 0.1  # Replace with the actual cutoff score for lemmas\n",
    "\n",
    "# Step 2: Initialize an empty list for the summary sentences\n",
    "summary_sentences_lemmas = []\n",
    "\n",
    "# Step 3: Loop through each sentence in the article\n",
    "for sent, score in zip(doc.sents, sentence_scores):  # `sentence_scores` should already exist for lemma scores\n",
    "    if score > cutoff_score_lemmas:  # Compare score to cutoff\n",
    "        summary_sentences_lemmas.append(sent.text.strip())  # Add sentence to summary list\n",
    "\n",
    "# Step 4: Generate the summary by joining the sentences\n",
    "summary_text_lemmas = ' '.join(summary_sentences_lemmas)\n",
    "\n",
    "# Step 5: Print the summary\n",
    "print(\"\\nSummary of the Article (based on lemmas):\")\n",
    "print(summary_text_lemmas)\n"
   ]
  },
  {
   "cell_type": "markdown",
   "metadata": {},
   "source": [
    "### Question 11. Print the polarity score of your summary you generated with the lemma scores (with an appropriate label). Additionally, print the number of sentences in the summarized article."
   ]
  },
  {
   "cell_type": "code",
   "execution_count": 13,
   "metadata": {},
   "outputs": [
    {
     "name": "stdout",
     "output_type": "stream",
     "text": [
      "Polarity Score of the Lemma-Based Summary: 0.29\n",
      "Number of Sentences in the Lemma-Based Summary: 27\n"
     ]
    }
   ],
   "source": [
    "from textblob import TextBlob\n",
    "\n",
    "# Step 1: Perform sentiment analysis on the lemma-based summary\n",
    "summary_blob_lemmas = TextBlob(summary_text_lemmas)  # Convert the lemma-based summary to a TextBlob object\n",
    "summary_polarity_lemmas = summary_blob_lemmas.sentiment.polarity  # Get the polarity score\n",
    "summary_sentence_count_lemmas = len(list(nlp(summary_text_lemmas).sents))  # Count sentences using spaCy\n",
    "\n",
    "# Step 2: Print the results\n",
    "print(f\"Polarity Score of the Lemma-Based Summary: {summary_polarity_lemmas:.2f}\")\n",
    "print(f\"Number of Sentences in the Lemma-Based Summary: {summary_sentence_count_lemmas}\")\n"
   ]
  },
  {
   "cell_type": "markdown",
   "metadata": {},
   "source": [
    "### Question 12.  Compare your polarity scores of your summaries to the polarity scores of the initial article.  Is there a difference?  Why do you think that may or may not be?.  Answer in this Markdown cell.  "
   ]
  },
  {
   "cell_type": "markdown",
   "metadata": {},
   "source": [
    "- The summary polarity score is a lot higher than the initial article. \n",
    "- I think that there may be a difference because summaries are designed to emphasize significant sentences which may have a stronger sentiment\n",
    "- The cutoff score also could have attributed to this"
   ]
  },
  {
   "cell_type": "markdown",
   "metadata": {},
   "source": [
    "13. Based on your reading of the original article, which summary do you think is better (if there's a difference).  Why do you think this might be?"
   ]
  },
  {
   "cell_type": "markdown",
   "metadata": {},
   "source": []
  }
 ],
 "metadata": {
  "kernelspec": {
   "display_name": ".venv",
   "language": "python",
   "name": "python3"
  },
  "language_info": {
   "codemirror_mode": {
    "name": "ipython",
    "version": 3
   },
   "file_extension": ".py",
   "mimetype": "text/x-python",
   "name": "python",
   "nbconvert_exporter": "python",
   "pygments_lexer": "ipython3",
   "version": "3.12.5"
  }
 },
 "nbformat": 4,
 "nbformat_minor": 4
}
